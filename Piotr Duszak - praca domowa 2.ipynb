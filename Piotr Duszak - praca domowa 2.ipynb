{
  "nbformat": 4,
  "nbformat_minor": 0,
  "metadata": {
    "kernelspec": {
      "name": "python3",
      "display_name": "Python 3"
    },
    "language_info": {
      "codemirror_mode": {
        "name": "ipython",
        "version": 3
      },
      "file_extension": ".py",
      "mimetype": "text/x-python",
      "name": "python",
      "nbconvert_exporter": "python",
      "pygments_lexer": "ipython3",
      "version": "3.8.1"
    },
    "colab": {
      "name": "99. Praca domowa.ipynb",
      "provenance": []
    },
    "widgets": {
      "application/vnd.jupyter.widget-state+json": {
        "7923a590cd454624b1b1e3d783d8ab0f": {
          "model_module": "@jupyter-widgets/controls",
          "model_name": "RadioButtonsModel",
          "state": {
            "_options_labels": [
              "education",
              "recreational",
              "social",
              "diy",
              "charity",
              "cooking",
              "relaxation",
              "music",
              "busywork"
            ],
            "_view_name": "RadioButtonsView",
            "style": "IPY_MODEL_3387f4eaa5934226a6bb0a8ef55b7e4d",
            "_dom_classes": [],
            "description": "",
            "_model_name": "RadioButtonsModel",
            "index": 7,
            "_view_module": "@jupyter-widgets/controls",
            "_model_module_version": "1.5.0",
            "_view_count": null,
            "disabled": false,
            "_view_module_version": "1.5.0",
            "description_tooltip": null,
            "_model_module": "@jupyter-widgets/controls",
            "layout": "IPY_MODEL_9c646c8d416d42da9b0e2cc9198f2d74"
          }
        },
        "3387f4eaa5934226a6bb0a8ef55b7e4d": {
          "model_module": "@jupyter-widgets/controls",
          "model_name": "DescriptionStyleModel",
          "state": {
            "_view_name": "StyleView",
            "_model_name": "DescriptionStyleModel",
            "description_width": "",
            "_view_module": "@jupyter-widgets/base",
            "_model_module_version": "1.5.0",
            "_view_count": null,
            "_view_module_version": "1.2.0",
            "_model_module": "@jupyter-widgets/controls"
          }
        },
        "9c646c8d416d42da9b0e2cc9198f2d74": {
          "model_module": "@jupyter-widgets/base",
          "model_name": "LayoutModel",
          "state": {
            "_view_name": "LayoutView",
            "grid_template_rows": null,
            "right": null,
            "justify_content": null,
            "_view_module": "@jupyter-widgets/base",
            "overflow": null,
            "_model_module_version": "1.2.0",
            "_view_count": null,
            "flex_flow": null,
            "width": null,
            "min_width": null,
            "border": null,
            "align_items": null,
            "bottom": null,
            "_model_module": "@jupyter-widgets/base",
            "top": null,
            "grid_column": null,
            "overflow_y": null,
            "overflow_x": null,
            "grid_auto_flow": null,
            "grid_area": null,
            "grid_template_columns": null,
            "flex": null,
            "_model_name": "LayoutModel",
            "justify_items": null,
            "grid_row": null,
            "max_height": null,
            "align_content": null,
            "visibility": null,
            "align_self": null,
            "height": null,
            "min_height": null,
            "padding": null,
            "grid_auto_rows": null,
            "grid_gap": null,
            "max_width": null,
            "order": null,
            "_view_module_version": "1.2.0",
            "grid_template_areas": null,
            "object_position": null,
            "object_fit": null,
            "grid_auto_columns": null,
            "margin": null,
            "display": null,
            "left": null
          }
        },
        "66746ff89aa941838b88d2a7d5d0830f": {
          "model_module": "@jupyter-widgets/controls",
          "model_name": "IntSliderModel",
          "state": {
            "_view_name": "IntSliderView",
            "style": "IPY_MODEL_bb7c8a8b73ff4e51b97a4291d92527d4",
            "_dom_classes": [],
            "description": "",
            "step": 1,
            "_model_name": "IntSliderModel",
            "orientation": "horizontal",
            "max": 10,
            "_view_module": "@jupyter-widgets/controls",
            "_model_module_version": "1.5.0",
            "value": 0,
            "_view_count": null,
            "disabled": false,
            "_view_module_version": "1.5.0",
            "min": 0,
            "continuous_update": true,
            "readout_format": "d",
            "description_tooltip": null,
            "readout": true,
            "_model_module": "@jupyter-widgets/controls",
            "layout": "IPY_MODEL_9f21be0b3c7948e99c7c2ed278967e50"
          }
        },
        "bb7c8a8b73ff4e51b97a4291d92527d4": {
          "model_module": "@jupyter-widgets/controls",
          "model_name": "SliderStyleModel",
          "state": {
            "_view_name": "StyleView",
            "handle_color": null,
            "_model_name": "SliderStyleModel",
            "description_width": "",
            "_view_module": "@jupyter-widgets/base",
            "_model_module_version": "1.5.0",
            "_view_count": null,
            "_view_module_version": "1.2.0",
            "_model_module": "@jupyter-widgets/controls"
          }
        },
        "9f21be0b3c7948e99c7c2ed278967e50": {
          "model_module": "@jupyter-widgets/base",
          "model_name": "LayoutModel",
          "state": {
            "_view_name": "LayoutView",
            "grid_template_rows": null,
            "right": null,
            "justify_content": null,
            "_view_module": "@jupyter-widgets/base",
            "overflow": null,
            "_model_module_version": "1.2.0",
            "_view_count": null,
            "flex_flow": null,
            "width": null,
            "min_width": null,
            "border": null,
            "align_items": null,
            "bottom": null,
            "_model_module": "@jupyter-widgets/base",
            "top": null,
            "grid_column": null,
            "overflow_y": null,
            "overflow_x": null,
            "grid_auto_flow": null,
            "grid_area": null,
            "grid_template_columns": null,
            "flex": null,
            "_model_name": "LayoutModel",
            "justify_items": null,
            "grid_row": null,
            "max_height": null,
            "align_content": null,
            "visibility": null,
            "align_self": null,
            "height": null,
            "min_height": null,
            "padding": null,
            "grid_auto_rows": null,
            "grid_gap": null,
            "max_width": null,
            "order": null,
            "_view_module_version": "1.2.0",
            "grid_template_areas": null,
            "object_position": null,
            "object_fit": null,
            "grid_auto_columns": null,
            "margin": null,
            "display": null,
            "left": null
          }
        },
        "6aaaeca3bbc64f68b5d4909d1ad1b5cb": {
          "model_module": "@jupyter-widgets/controls",
          "model_name": "ButtonModel",
          "state": {
            "_view_name": "ButtonView",
            "style": "IPY_MODEL_aff7fa2489824b408310e2b04243fe9b",
            "_dom_classes": [],
            "description": "Kliknij na mnie!",
            "_model_name": "ButtonModel",
            "button_style": "",
            "_view_module": "@jupyter-widgets/controls",
            "_model_module_version": "1.5.0",
            "tooltip": "",
            "_view_count": null,
            "disabled": false,
            "_view_module_version": "1.5.0",
            "layout": "IPY_MODEL_84fa6f8deab949efbc8020e8fd128608",
            "_model_module": "@jupyter-widgets/controls",
            "icon": ""
          }
        },
        "aff7fa2489824b408310e2b04243fe9b": {
          "model_module": "@jupyter-widgets/controls",
          "model_name": "ButtonStyleModel",
          "state": {
            "_view_name": "StyleView",
            "_model_name": "ButtonStyleModel",
            "_view_module": "@jupyter-widgets/base",
            "_model_module_version": "1.5.0",
            "_view_count": null,
            "button_color": null,
            "font_weight": "",
            "_view_module_version": "1.2.0",
            "_model_module": "@jupyter-widgets/controls"
          }
        },
        "84fa6f8deab949efbc8020e8fd128608": {
          "model_module": "@jupyter-widgets/base",
          "model_name": "LayoutModel",
          "state": {
            "_view_name": "LayoutView",
            "grid_template_rows": null,
            "right": null,
            "justify_content": null,
            "_view_module": "@jupyter-widgets/base",
            "overflow": null,
            "_model_module_version": "1.2.0",
            "_view_count": null,
            "flex_flow": null,
            "width": null,
            "min_width": null,
            "border": null,
            "align_items": null,
            "bottom": null,
            "_model_module": "@jupyter-widgets/base",
            "top": null,
            "grid_column": null,
            "overflow_y": null,
            "overflow_x": null,
            "grid_auto_flow": null,
            "grid_area": null,
            "grid_template_columns": null,
            "flex": null,
            "_model_name": "LayoutModel",
            "justify_items": null,
            "grid_row": null,
            "max_height": null,
            "align_content": null,
            "visibility": null,
            "align_self": null,
            "height": null,
            "min_height": null,
            "padding": null,
            "grid_auto_rows": null,
            "grid_gap": null,
            "max_width": null,
            "order": null,
            "_view_module_version": "1.2.0",
            "grid_template_areas": null,
            "object_position": null,
            "object_fit": null,
            "grid_auto_columns": null,
            "margin": null,
            "display": null,
            "left": null
          }
        },
        "142e9c51e97e4b1ab127847cf299bb56": {
          "model_module": "@jupyter-widgets/controls",
          "model_name": "TextModel",
          "state": {
            "_view_name": "TextView",
            "style": "IPY_MODEL_dc5da2b5d274440d9d50365c999552a3",
            "_dom_classes": [],
            "description": "",
            "_model_name": "TextModel",
            "placeholder": "​",
            "_view_module": "@jupyter-widgets/controls",
            "_model_module_version": "1.5.0",
            "value": "Select the type of activity",
            "_view_count": null,
            "disabled": true,
            "_view_module_version": "1.5.0",
            "continuous_update": true,
            "description_tooltip": null,
            "_model_module": "@jupyter-widgets/controls",
            "layout": "IPY_MODEL_7c053a0e06b74963b25e66825d6809a2"
          }
        },
        "dc5da2b5d274440d9d50365c999552a3": {
          "model_module": "@jupyter-widgets/controls",
          "model_name": "DescriptionStyleModel",
          "state": {
            "_view_name": "StyleView",
            "_model_name": "DescriptionStyleModel",
            "description_width": "",
            "_view_module": "@jupyter-widgets/base",
            "_model_module_version": "1.5.0",
            "_view_count": null,
            "_view_module_version": "1.2.0",
            "_model_module": "@jupyter-widgets/controls"
          }
        },
        "7c053a0e06b74963b25e66825d6809a2": {
          "model_module": "@jupyter-widgets/base",
          "model_name": "LayoutModel",
          "state": {
            "_view_name": "LayoutView",
            "grid_template_rows": null,
            "right": null,
            "justify_content": null,
            "_view_module": "@jupyter-widgets/base",
            "overflow": null,
            "_model_module_version": "1.2.0",
            "_view_count": null,
            "flex_flow": null,
            "width": null,
            "min_width": null,
            "border": null,
            "align_items": null,
            "bottom": null,
            "_model_module": "@jupyter-widgets/base",
            "top": null,
            "grid_column": null,
            "overflow_y": null,
            "overflow_x": null,
            "grid_auto_flow": null,
            "grid_area": null,
            "grid_template_columns": null,
            "flex": null,
            "_model_name": "LayoutModel",
            "justify_items": null,
            "grid_row": null,
            "max_height": null,
            "align_content": null,
            "visibility": null,
            "align_self": null,
            "height": null,
            "min_height": null,
            "padding": null,
            "grid_auto_rows": null,
            "grid_gap": null,
            "max_width": null,
            "order": null,
            "_view_module_version": "1.2.0",
            "grid_template_areas": null,
            "object_position": null,
            "object_fit": null,
            "grid_auto_columns": null,
            "margin": null,
            "display": null,
            "left": null
          }
        },
        "2c87a125611b438aad3781f873d9da32": {
          "model_module": "@jupyter-widgets/controls",
          "model_name": "RadioButtonsModel",
          "state": {
            "_options_labels": [
              "education",
              "recreational",
              "social",
              "diy",
              "charity",
              "cooking",
              "relaxation",
              "music",
              "busywork"
            ],
            "_view_name": "RadioButtonsView",
            "style": "IPY_MODEL_07cd22f9b5a94f1fbea748f6af8a01d1",
            "_dom_classes": [],
            "description": "",
            "_model_name": "RadioButtonsModel",
            "index": 0,
            "_view_module": "@jupyter-widgets/controls",
            "_model_module_version": "1.5.0",
            "_view_count": null,
            "disabled": false,
            "_view_module_version": "1.5.0",
            "description_tooltip": null,
            "_model_module": "@jupyter-widgets/controls",
            "layout": "IPY_MODEL_e52259bd456647c69474edea2cdd59ee"
          }
        },
        "07cd22f9b5a94f1fbea748f6af8a01d1": {
          "model_module": "@jupyter-widgets/controls",
          "model_name": "DescriptionStyleModel",
          "state": {
            "_view_name": "StyleView",
            "_model_name": "DescriptionStyleModel",
            "description_width": "",
            "_view_module": "@jupyter-widgets/base",
            "_model_module_version": "1.5.0",
            "_view_count": null,
            "_view_module_version": "1.2.0",
            "_model_module": "@jupyter-widgets/controls"
          }
        },
        "e52259bd456647c69474edea2cdd59ee": {
          "model_module": "@jupyter-widgets/base",
          "model_name": "LayoutModel",
          "state": {
            "_view_name": "LayoutView",
            "grid_template_rows": null,
            "right": null,
            "justify_content": null,
            "_view_module": "@jupyter-widgets/base",
            "overflow": null,
            "_model_module_version": "1.2.0",
            "_view_count": null,
            "flex_flow": null,
            "width": null,
            "min_width": null,
            "border": null,
            "align_items": null,
            "bottom": null,
            "_model_module": "@jupyter-widgets/base",
            "top": null,
            "grid_column": null,
            "overflow_y": null,
            "overflow_x": null,
            "grid_auto_flow": null,
            "grid_area": null,
            "grid_template_columns": null,
            "flex": null,
            "_model_name": "LayoutModel",
            "justify_items": null,
            "grid_row": null,
            "max_height": null,
            "align_content": null,
            "visibility": null,
            "align_self": null,
            "height": null,
            "min_height": null,
            "padding": null,
            "grid_auto_rows": null,
            "grid_gap": null,
            "max_width": null,
            "order": null,
            "_view_module_version": "1.2.0",
            "grid_template_areas": null,
            "object_position": null,
            "object_fit": null,
            "grid_auto_columns": null,
            "margin": null,
            "display": null,
            "left": null
          }
        },
        "c69d9e89da0a48c0a1ce4fd0c6e5a91d": {
          "model_module": "@jupyter-widgets/controls",
          "model_name": "IntSliderModel",
          "state": {
            "_view_name": "IntSliderView",
            "style": "IPY_MODEL_4733262010ef4ebd9be58afbf312151d",
            "_dom_classes": [],
            "description": "",
            "step": 1,
            "_model_name": "IntSliderModel",
            "orientation": "horizontal",
            "max": 10,
            "_view_module": "@jupyter-widgets/controls",
            "_model_module_version": "1.5.0",
            "value": 0,
            "_view_count": null,
            "disabled": false,
            "_view_module_version": "1.5.0",
            "min": 0,
            "continuous_update": true,
            "readout_format": "d",
            "description_tooltip": null,
            "readout": true,
            "_model_module": "@jupyter-widgets/controls",
            "layout": "IPY_MODEL_75bd6d48633640358a2adeeb15ef837f"
          }
        },
        "4733262010ef4ebd9be58afbf312151d": {
          "model_module": "@jupyter-widgets/controls",
          "model_name": "SliderStyleModel",
          "state": {
            "_view_name": "StyleView",
            "handle_color": null,
            "_model_name": "SliderStyleModel",
            "description_width": "",
            "_view_module": "@jupyter-widgets/base",
            "_model_module_version": "1.5.0",
            "_view_count": null,
            "_view_module_version": "1.2.0",
            "_model_module": "@jupyter-widgets/controls"
          }
        },
        "75bd6d48633640358a2adeeb15ef837f": {
          "model_module": "@jupyter-widgets/base",
          "model_name": "LayoutModel",
          "state": {
            "_view_name": "LayoutView",
            "grid_template_rows": null,
            "right": null,
            "justify_content": null,
            "_view_module": "@jupyter-widgets/base",
            "overflow": null,
            "_model_module_version": "1.2.0",
            "_view_count": null,
            "flex_flow": null,
            "width": null,
            "min_width": null,
            "border": null,
            "align_items": null,
            "bottom": null,
            "_model_module": "@jupyter-widgets/base",
            "top": null,
            "grid_column": null,
            "overflow_y": null,
            "overflow_x": null,
            "grid_auto_flow": null,
            "grid_area": null,
            "grid_template_columns": null,
            "flex": null,
            "_model_name": "LayoutModel",
            "justify_items": null,
            "grid_row": null,
            "max_height": null,
            "align_content": null,
            "visibility": null,
            "align_self": null,
            "height": null,
            "min_height": null,
            "padding": null,
            "grid_auto_rows": null,
            "grid_gap": null,
            "max_width": null,
            "order": null,
            "_view_module_version": "1.2.0",
            "grid_template_areas": null,
            "object_position": null,
            "object_fit": null,
            "grid_auto_columns": null,
            "margin": null,
            "display": null,
            "left": null
          }
        },
        "101731e6beea420cab6d391c04f68d2c": {
          "model_module": "@jupyter-widgets/controls",
          "model_name": "ButtonModel",
          "state": {
            "_view_name": "ButtonView",
            "style": "IPY_MODEL_1d9a239ff3d343899488f7af5d86074d",
            "_dom_classes": [],
            "description": "Show me what you got!",
            "_model_name": "ButtonModel",
            "button_style": "danger",
            "_view_module": "@jupyter-widgets/controls",
            "_model_module_version": "1.5.0",
            "tooltip": "",
            "_view_count": null,
            "disabled": false,
            "_view_module_version": "1.5.0",
            "layout": "IPY_MODEL_eafbf14ec5e9424082b48bd92e3eae94",
            "_model_module": "@jupyter-widgets/controls",
            "icon": ""
          }
        },
        "1d9a239ff3d343899488f7af5d86074d": {
          "model_module": "@jupyter-widgets/controls",
          "model_name": "ButtonStyleModel",
          "state": {
            "_view_name": "StyleView",
            "_model_name": "ButtonStyleModel",
            "_view_module": "@jupyter-widgets/base",
            "_model_module_version": "1.5.0",
            "_view_count": null,
            "button_color": null,
            "font_weight": "",
            "_view_module_version": "1.2.0",
            "_model_module": "@jupyter-widgets/controls"
          }
        },
        "eafbf14ec5e9424082b48bd92e3eae94": {
          "model_module": "@jupyter-widgets/base",
          "model_name": "LayoutModel",
          "state": {
            "_view_name": "LayoutView",
            "grid_template_rows": null,
            "right": null,
            "justify_content": null,
            "_view_module": "@jupyter-widgets/base",
            "overflow": null,
            "_model_module_version": "1.2.0",
            "_view_count": null,
            "flex_flow": null,
            "width": "200px",
            "min_width": null,
            "border": null,
            "align_items": null,
            "bottom": null,
            "_model_module": "@jupyter-widgets/base",
            "top": null,
            "grid_column": null,
            "overflow_y": null,
            "overflow_x": null,
            "grid_auto_flow": null,
            "grid_area": null,
            "grid_template_columns": null,
            "flex": null,
            "_model_name": "LayoutModel",
            "justify_items": null,
            "grid_row": null,
            "max_height": null,
            "align_content": null,
            "visibility": null,
            "align_self": null,
            "height": "50px",
            "min_height": null,
            "padding": null,
            "grid_auto_rows": null,
            "grid_gap": null,
            "max_width": null,
            "order": null,
            "_view_module_version": "1.2.0",
            "grid_template_areas": null,
            "object_position": null,
            "object_fit": null,
            "grid_auto_columns": null,
            "margin": null,
            "display": null,
            "left": null
          }
        }
      }
    },
    "accelerator": "GPU"
  },
  "cells": [
    {
      "cell_type": "markdown",
      "metadata": {
        "id": "fgQpK9zNU8-O",
        "colab_type": "text"
      },
      "source": [
        "# Praca domowa\n",
        "\n",
        "Praca domowa polega na wykonaniu za pomocą notebooków \"pseudoaplikacji\", która będzie sugerowała aktywności dla znudzonych $n$ osób. W pracy domowej proszę wykorzystać Bored API (http://www.boredapi.com/). Poniżej znajduje się przykładowe wywołanie tego API. Potrzebne jest zainstalowanie biblioteki `requests` (ale ją powinno Państwo mieć). W przykładzie wysyłamy rządanie do serwera a on zwraca nam odpowiedź. Odpowiedz konwertujemy do postaci Pythonowskiego słownika i możemy z nią dalej pracować:"
      ]
    },
    {
      "cell_type": "code",
      "metadata": {
        "id": "SBY-rPCEU8-U",
        "colab_type": "code",
        "outputId": "ad2ed17d-d92b-48d5-b753-1e86c3153a15",
        "colab": {
          "base_uri": "https://localhost:8080/",
          "height": 146
        }
      },
      "source": [
        "import requests\n",
        "# Możliwe typy aktywności \n",
        "# [\"education\", \"recreational\", \"social\", \"diy\", \"charity\", \"cooking\", \"relaxation\", \"music\", \"busywork\"]\n",
        "\n",
        "url = 'https://www.boredapi.com/api/activity?type=recreational&participants=2'\n",
        "activity = requests.get(url).json()\n",
        "activity"
      ],
      "execution_count": 0,
      "outputs": [
        {
          "output_type": "execute_result",
          "data": {
            "text/plain": [
              "{'accessibility': 0.4,\n",
              " 'activity': 'Play a game of tennis with a friend',\n",
              " 'key': '1093640',\n",
              " 'link': '',\n",
              " 'participants': 2,\n",
              " 'price': 0.1,\n",
              " 'type': 'recreational'}"
            ]
          },
          "metadata": {
            "tags": []
          },
          "execution_count": 11
        }
      ]
    },
    {
      "cell_type": "markdown",
      "metadata": {
        "id": "EelFwFviU8-k",
        "colab_type": "text"
      },
      "source": [
        "Jak widzimy API zwraca nam słownik, w którym mamy informacje o aktywności. Drugim elementem zadania jest wykorzystanie widgetów. \n",
        "\n",
        "Aby zainstalować i uruchomić widgety należy posłużyć się poleceniem:\n",
        "\n",
        "```\n",
        "pip install ipywidgets\n",
        "jupyter nbextension enable --py widgetsnbextension\n",
        "```\n",
        "\n",
        "lub \n",
        "\n",
        "```\n",
        "conda install -c conda-forge ipywidgets\n",
        "```\n",
        "\n",
        "Przykładowo możemy skonstruować widgety, którymi kontrolować będziemy liczbę uczestników aktywności i typ. Poniżej znajduje się prosty przykład wykorzystania widgetów w Notebooku. Najpierw tworzymy 3 widgety - listę z wyborem aktywności, suwak z wyborem liczby uczestników oraz przycisk akceptacji wyboru. Przycisk akceptacji wyboru podłączony jest pod funkcję `on_click_callback`, która wyświetla aktualnie wybrane wartości pozostałych widgetów (atrybut `value`)"
      ]
    },
    {
      "cell_type": "code",
      "metadata": {
        "id": "KVtz6f1hU8-n",
        "colab_type": "code",
        "outputId": "176c595f-d76d-47f1-d6fe-970a65b46f1e",
        "colab": {
          "base_uri": "https://localhost:8080/",
          "height": 392,
          "referenced_widgets": [
            "7923a590cd454624b1b1e3d783d8ab0f",
            "3387f4eaa5934226a6bb0a8ef55b7e4d",
            "9c646c8d416d42da9b0e2cc9198f2d74",
            "66746ff89aa941838b88d2a7d5d0830f",
            "bb7c8a8b73ff4e51b97a4291d92527d4",
            "9f21be0b3c7948e99c7c2ed278967e50",
            "6aaaeca3bbc64f68b5d4909d1ad1b5cb",
            "aff7fa2489824b408310e2b04243fe9b",
            "84fa6f8deab949efbc8020e8fd128608"
          ]
        }
      },
      "source": [
        "import ipywidgets as widgets\n",
        "from IPython.display import display\n",
        "n_participants = widgets.IntSlider(min = 0, max = 10)\n",
        "types_of_activities = widgets.RadioButtons(options = [\"education\", \"recreational\", \"social\", \n",
        "                                                      \"diy\", \"charity\", \"cooking\", \n",
        "                                                      \"relaxation\", \"music\", \"busywork\"])\n",
        "\n",
        "select_button = widgets.Button(description='Kliknij na mnie!')\n",
        "\n",
        "def on_click_callback(w):\n",
        "    display(n_participants.value)\n",
        "    display(types_of_activities.value)\n",
        "    \n",
        "select_button.on_click(on_click_callback)\n",
        "\n",
        "display('Wybrane opcje')\n",
        "display(types_of_activities)\n",
        "display(n_participants)\n",
        "display(select_button)"
      ],
      "execution_count": 0,
      "outputs": [
        {
          "output_type": "display_data",
          "data": {
            "text/plain": [
              "'Wybrane opcje'"
            ]
          },
          "metadata": {
            "tags": []
          }
        },
        {
          "output_type": "display_data",
          "data": {
            "application/vnd.jupyter.widget-view+json": {
              "model_id": "7923a590cd454624b1b1e3d783d8ab0f",
              "version_minor": 0,
              "version_major": 2
            },
            "text/plain": [
              "RadioButtons(options=('education', 'recreational', 'social', 'diy', 'charity', 'cooking', 'relaxation', 'music…"
            ]
          },
          "metadata": {
            "tags": []
          }
        },
        {
          "output_type": "display_data",
          "data": {
            "application/vnd.jupyter.widget-view+json": {
              "model_id": "66746ff89aa941838b88d2a7d5d0830f",
              "version_minor": 0,
              "version_major": 2
            },
            "text/plain": [
              "IntSlider(value=0, max=10)"
            ]
          },
          "metadata": {
            "tags": []
          }
        },
        {
          "output_type": "display_data",
          "data": {
            "application/vnd.jupyter.widget-view+json": {
              "model_id": "6aaaeca3bbc64f68b5d4909d1ad1b5cb",
              "version_minor": 0,
              "version_major": 2
            },
            "text/plain": [
              "Button(description='Kliknij na mnie!', style=ButtonStyle())"
            ]
          },
          "metadata": {
            "tags": []
          }
        },
        {
          "output_type": "display_data",
          "data": {
            "text/plain": [
              "0"
            ]
          },
          "metadata": {
            "tags": []
          }
        },
        {
          "output_type": "display_data",
          "data": {
            "text/plain": [
              "'education'"
            ]
          },
          "metadata": {
            "tags": []
          }
        },
        {
          "output_type": "display_data",
          "data": {
            "text/plain": [
              "0"
            ]
          },
          "metadata": {
            "tags": []
          }
        },
        {
          "output_type": "display_data",
          "data": {
            "text/plain": [
              "'charity'"
            ]
          },
          "metadata": {
            "tags": []
          }
        },
        {
          "output_type": "display_data",
          "data": {
            "text/plain": [
              "0"
            ]
          },
          "metadata": {
            "tags": []
          }
        },
        {
          "output_type": "display_data",
          "data": {
            "text/plain": [
              "'music'"
            ]
          },
          "metadata": {
            "tags": []
          }
        }
      ]
    },
    {
      "cell_type": "markdown",
      "metadata": {
        "id": "DIDlRHFpU8-v",
        "colab_type": "text"
      },
      "source": [
        "Państwa zadaniem jest rozwinięcie powyższego przykładu tak, aby ściągał z API niezbędne dane i wyświetlał je w formie sformatowanego Markdowna. Rozwiązania należy wrzucić na platformę w postaciu pliku `ipynb`. Jeżeli komuś nie działają widgety, to proszę o kontakt. W ostateczności może być bez widgetów (ale koniecznie z pobieraniem danych przez API i formatowaniem ich w Markdownie)."
      ]
    },
    {
      "cell_type": "code",
      "metadata": {
        "id": "ZADfzWq-rejn",
        "colab_type": "code",
        "outputId": "7c16c338-ec6e-440b-b8c5-32317b4d67e9",
        "colab": {
          "base_uri": "https://localhost:8080/",
          "height": 340,
          "referenced_widgets": [
            "142e9c51e97e4b1ab127847cf299bb56",
            "dc5da2b5d274440d9d50365c999552a3",
            "7c053a0e06b74963b25e66825d6809a2",
            "2c87a125611b438aad3781f873d9da32",
            "07cd22f9b5a94f1fbea748f6af8a01d1",
            "e52259bd456647c69474edea2cdd59ee",
            "c69d9e89da0a48c0a1ce4fd0c6e5a91d",
            "4733262010ef4ebd9be58afbf312151d",
            "75bd6d48633640358a2adeeb15ef837f",
            "101731e6beea420cab6d391c04f68d2c",
            "1d9a239ff3d343899488f7af5d86074d",
            "eafbf14ec5e9424082b48bd92e3eae94"
          ]
        }
      },
      "source": [
        "import requests\n",
        "import ipywidgets as widgets\n",
        "from IPython.display import DisplayHandle, Markdown\n",
        "n_participants = widgets.IntSlider(min = 0, max = 10)\n",
        "types_of_activities = widgets.RadioButtons(options = [\"education\", \"recreational\", \"social\", \n",
        "                                                      \"diy\", \"charity\", \"cooking\", \n",
        "                                                      \"relaxation\", \"music\", \"busywork\"])\n",
        "text_box = widgets.Text('Select the type of activity', disabled=True)\n",
        "\n",
        "select_button = widgets.Button(description='Show me what you got!', button_style='danger', layout=widgets.Layout(width='200px', height='50px'))\n",
        "url = 'https://www.boredapi.com/api/activity'\n",
        "handle = DisplayHandle()\n",
        "\n",
        "def on_click_callback(w):\n",
        "    num_of_part = n_participants.value\n",
        "    act_type = types_of_activities.value\n",
        "    activity = requests.get(url, params={'type': act_type, 'participants': num_of_part}).json()\n",
        "    act_string = ''\n",
        "    if 'error' in activity:\n",
        "      act_string = 'We are sorry! We dont know *{}* activity for *{}* participant(s)'.format(act_type, num_of_part)\n",
        "      mod = [int((i+2)/2)*(-1)**(i) for i in range(20)] # Tworzę listę [1, -1, 2, -2, ...], żeby sprawdzić, czy dla innej liczby osób się coś nie znajdzie\n",
        "      for i in mod:\n",
        "        activity = requests.get(url, params={'type': act_type, 'participants': num_of_part+i}).json()\n",
        "        if 'error' not in activity:\n",
        "          break\n",
        "      m_l = 'more' if i > 0 else 'less'\n",
        "      act_string = '\\n\\n'.join([act_string, 'But you can ***{}***, if you have **{} {}** person(s)'.format(activity['activity'], abs(i), m_l)])\n",
        "    else:\n",
        "       act_string = 'You can ***{}***'.format(activity['activity'])\n",
        "\n",
        "    if activity['accessibility'] >= 0.7:\n",
        "      act_string = '\\n\\n'.join([act_string, 'Warning! Accessibility threshold is over 9000'])\n",
        "    if activity['link']:\n",
        "      act_string = '\\n\\n'.join([act_string, 'For more information check out this website [link]({})'.format(activity['link'])])\n",
        "    handle.update(Markdown(act_string))\n",
        "\n",
        "handle.display(text_box)\n",
        "handle.display(types_of_activities)\n",
        "handle.display(n_participants)\n",
        "handle.display(select_button)\n",
        "handle.display(Markdown(''))\n",
        "select_button.on_click(on_click_callback)"
      ],
      "execution_count": 0,
      "outputs": [
        {
          "output_type": "display_data",
          "data": {
            "application/vnd.jupyter.widget-view+json": {
              "model_id": "142e9c51e97e4b1ab127847cf299bb56",
              "version_minor": 0,
              "version_major": 2
            },
            "text/plain": [
              "Text(value='Select the type of activity', disabled=True)"
            ]
          },
          "metadata": {
            "tags": []
          }
        },
        {
          "output_type": "display_data",
          "data": {
            "application/vnd.jupyter.widget-view+json": {
              "model_id": "2c87a125611b438aad3781f873d9da32",
              "version_minor": 0,
              "version_major": 2
            },
            "text/plain": [
              "RadioButtons(options=('education', 'recreational', 'social', 'diy', 'charity', 'cooking', 'relaxation', 'music…"
            ]
          },
          "metadata": {
            "tags": []
          }
        },
        {
          "output_type": "display_data",
          "data": {
            "application/vnd.jupyter.widget-view+json": {
              "model_id": "c69d9e89da0a48c0a1ce4fd0c6e5a91d",
              "version_minor": 0,
              "version_major": 2
            },
            "text/plain": [
              "IntSlider(value=0, max=10)"
            ]
          },
          "metadata": {
            "tags": []
          }
        },
        {
          "output_type": "display_data",
          "data": {
            "application/vnd.jupyter.widget-view+json": {
              "model_id": "101731e6beea420cab6d391c04f68d2c",
              "version_minor": 0,
              "version_major": 2
            },
            "text/plain": [
              "Button(button_style='danger', description='Show me what you got!', layout=Layout(height='50px', width='200px')…"
            ]
          },
          "metadata": {
            "tags": []
          }
        },
        {
          "output_type": "display_data",
          "data": {
            "text/markdown": "",
            "text/plain": [
              "<IPython.core.display.Markdown object>"
            ]
          },
          "metadata": {
            "tags": []
          }
        }
      ]
    }
  ]
}